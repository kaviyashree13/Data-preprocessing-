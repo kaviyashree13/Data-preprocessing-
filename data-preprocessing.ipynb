{
 "cells": [
  {
   "cell_type": "code",
   "execution_count": 1,
   "id": "d19a2edd",
   "metadata": {
    "execution": {
     "iopub.execute_input": "2024-05-04T16:28:01.764489Z",
     "iopub.status.busy": "2024-05-04T16:28:01.763674Z",
     "iopub.status.idle": "2024-05-04T16:28:02.971896Z",
     "shell.execute_reply": "2024-05-04T16:28:02.970517Z"
    },
    "papermill": {
     "duration": 1.225504,
     "end_time": "2024-05-04T16:28:02.975513",
     "exception": false,
     "start_time": "2024-05-04T16:28:01.750009",
     "status": "completed"
    },
    "tags": []
   },
   "outputs": [],
   "source": [
    "import pandas as pd\n",
    "import numpy as np"
   ]
  },
  {
   "cell_type": "code",
   "execution_count": 2,
   "id": "77a4c9c4",
   "metadata": {
    "execution": {
     "iopub.execute_input": "2024-05-04T16:28:03.000759Z",
     "iopub.status.busy": "2024-05-04T16:28:03.000155Z",
     "iopub.status.idle": "2024-05-04T16:28:03.385594Z",
     "shell.execute_reply": "2024-05-04T16:28:03.384126Z"
    },
    "papermill": {
     "duration": 0.402164,
     "end_time": "2024-05-04T16:28:03.389381",
     "exception": false,
     "start_time": "2024-05-04T16:28:02.987217",
     "status": "completed"
    },
    "tags": []
   },
   "outputs": [],
   "source": [
    "df = pd.read_csv('https://github.com/YBIFoundation/Dataset/raw/main/TheTitanic.csv')\n"
   ]
  },
  {
   "cell_type": "code",
   "execution_count": 3,
   "id": "ce7d60ca",
   "metadata": {
    "execution": {
     "iopub.execute_input": "2024-05-04T16:28:03.414178Z",
     "iopub.status.busy": "2024-05-04T16:28:03.413696Z",
     "iopub.status.idle": "2024-05-04T16:28:03.448870Z",
     "shell.execute_reply": "2024-05-04T16:28:03.447478Z"
    },
    "papermill": {
     "duration": 0.05092,
     "end_time": "2024-05-04T16:28:03.451856",
     "exception": false,
     "start_time": "2024-05-04T16:28:03.400936",
     "status": "completed"
    },
    "tags": []
   },
   "outputs": [
    {
     "data": {
      "text/html": [
       "<div>\n",
       "<style scoped>\n",
       "    .dataframe tbody tr th:only-of-type {\n",
       "        vertical-align: middle;\n",
       "    }\n",
       "\n",
       "    .dataframe tbody tr th {\n",
       "        vertical-align: top;\n",
       "    }\n",
       "\n",
       "    .dataframe thead th {\n",
       "        text-align: right;\n",
       "    }\n",
       "</style>\n",
       "<table border=\"1\" class=\"dataframe\">\n",
       "  <thead>\n",
       "    <tr style=\"text-align: right;\">\n",
       "      <th></th>\n",
       "      <th>1</th>\n",
       "      <th>2</th>\n",
       "      <th>3</th>\n",
       "      <th>4</th>\n",
       "      <th>5</th>\n",
       "      <th>6</th>\n",
       "      <th>7</th>\n",
       "      <th>8</th>\n",
       "      <th>9</th>\n",
       "      <th>10</th>\n",
       "    </tr>\n",
       "  </thead>\n",
       "  <tbody>\n",
       "    <tr>\n",
       "      <th>0</th>\n",
       "      <td>sn</td>\n",
       "      <td>pclass</td>\n",
       "      <td>survived</td>\n",
       "      <td>NaN</td>\n",
       "      <td>gender</td>\n",
       "      <td>age</td>\n",
       "      <td>family</td>\n",
       "      <td>fare</td>\n",
       "      <td>embarked</td>\n",
       "      <td>date</td>\n",
       "    </tr>\n",
       "    <tr>\n",
       "      <th>1</th>\n",
       "      <td>1</td>\n",
       "      <td>3</td>\n",
       "      <td>0</td>\n",
       "      <td>Mr. Anthony</td>\n",
       "      <td>male</td>\n",
       "      <td>42</td>\n",
       "      <td>0</td>\n",
       "      <td>7.55</td>\n",
       "      <td>NaN</td>\n",
       "      <td>01-Jan-90</td>\n",
       "    </tr>\n",
       "    <tr>\n",
       "      <th>2</th>\n",
       "      <td>1</td>\n",
       "      <td>3</td>\n",
       "      <td>0</td>\n",
       "      <td>Mr. Anthony</td>\n",
       "      <td>male</td>\n",
       "      <td>42</td>\n",
       "      <td>0</td>\n",
       "      <td>7.55</td>\n",
       "      <td>NaN</td>\n",
       "      <td>01-Jan-90</td>\n",
       "    </tr>\n",
       "    <tr>\n",
       "      <th>3</th>\n",
       "      <td>2</td>\n",
       "      <td>3</td>\n",
       "      <td>0</td>\n",
       "      <td>Master. Eugene Joseph</td>\n",
       "      <td>male</td>\n",
       "      <td>?</td>\n",
       "      <td>2</td>\n",
       "      <td>20.25</td>\n",
       "      <td>S</td>\n",
       "      <td>02-Jan-90</td>\n",
       "    </tr>\n",
       "    <tr>\n",
       "      <th>4</th>\n",
       "      <td>3</td>\n",
       "      <td>2</td>\n",
       "      <td>0</td>\n",
       "      <td>Abbott, Mr. Rossmore Edward</td>\n",
       "      <td>NaN</td>\n",
       "      <td>NaN</td>\n",
       "      <td>2</td>\n",
       "      <td>**</td>\n",
       "      <td>S</td>\n",
       "      <td>03-Jan-90</td>\n",
       "    </tr>\n",
       "  </tbody>\n",
       "</table>\n",
       "</div>"
      ],
      "text/plain": [
       "    1       2         3                            4       5    6       7  \\\n",
       "0  sn  pclass  survived                          NaN  gender  age  family   \n",
       "1   1       3         0                  Mr. Anthony    male   42       0   \n",
       "2   1       3         0                  Mr. Anthony    male   42       0   \n",
       "3   2       3         0        Master. Eugene Joseph    male    ?       2   \n",
       "4   3       2         0  Abbott, Mr. Rossmore Edward     NaN  NaN       2   \n",
       "\n",
       "       8         9         10  \n",
       "0   fare  embarked       date  \n",
       "1   7.55       NaN  01-Jan-90  \n",
       "2   7.55       NaN  01-Jan-90  \n",
       "3  20.25         S  02-Jan-90  \n",
       "4     **         S  03-Jan-90  "
      ]
     },
     "execution_count": 3,
     "metadata": {},
     "output_type": "execute_result"
    }
   ],
   "source": [
    "df.head()"
   ]
  },
  {
   "cell_type": "code",
   "execution_count": 4,
   "id": "bb0940b3",
   "metadata": {
    "execution": {
     "iopub.execute_input": "2024-05-04T16:28:03.475888Z",
     "iopub.status.busy": "2024-05-04T16:28:03.475390Z",
     "iopub.status.idle": "2024-05-04T16:28:03.483455Z",
     "shell.execute_reply": "2024-05-04T16:28:03.482170Z"
    },
    "papermill": {
     "duration": 0.023229,
     "end_time": "2024-05-04T16:28:03.486119",
     "exception": false,
     "start_time": "2024-05-04T16:28:03.462890",
     "status": "completed"
    },
    "tags": []
   },
   "outputs": [
    {
     "data": {
      "text/plain": [
       "Index(['1', '2', '3', '4', '5', '6', '7', '8', '9', '10'], dtype='object')"
      ]
     },
     "execution_count": 4,
     "metadata": {},
     "output_type": "execute_result"
    }
   ],
   "source": [
    "df.columns"
   ]
  },
  {
   "cell_type": "code",
   "execution_count": 5,
   "id": "ba16bdec",
   "metadata": {
    "execution": {
     "iopub.execute_input": "2024-05-04T16:28:03.511762Z",
     "iopub.status.busy": "2024-05-04T16:28:03.511268Z",
     "iopub.status.idle": "2024-05-04T16:28:03.518473Z",
     "shell.execute_reply": "2024-05-04T16:28:03.517522Z"
    },
    "papermill": {
     "duration": 0.02244,
     "end_time": "2024-05-04T16:28:03.520672",
     "exception": false,
     "start_time": "2024-05-04T16:28:03.498232",
     "status": "completed"
    },
    "tags": []
   },
   "outputs": [
    {
     "data": {
      "text/plain": [
       "(1302, 10)"
      ]
     },
     "execution_count": 5,
     "metadata": {},
     "output_type": "execute_result"
    }
   ],
   "source": [
    "df.shape"
   ]
  },
  {
   "cell_type": "code",
   "execution_count": 6,
   "id": "bea29123",
   "metadata": {
    "execution": {
     "iopub.execute_input": "2024-05-04T16:28:03.548309Z",
     "iopub.status.busy": "2024-05-04T16:28:03.547856Z",
     "iopub.status.idle": "2024-05-04T16:28:03.565185Z",
     "shell.execute_reply": "2024-05-04T16:28:03.563994Z"
    },
    "papermill": {
     "duration": 0.033577,
     "end_time": "2024-05-04T16:28:03.568063",
     "exception": false,
     "start_time": "2024-05-04T16:28:03.534486",
     "status": "completed"
    },
    "tags": []
   },
   "outputs": [
    {
     "data": {
      "text/plain": [
       "<bound method DataFrame.info of          1       2         3                                       4       5  \\\n",
       "0       sn  pclass  survived                                     NaN  gender   \n",
       "1        1       3         0                             Mr. Anthony    male   \n",
       "2        1       3         0                             Mr. Anthony    male   \n",
       "3        2       3         0                   Master. Eugene Joseph    male   \n",
       "4        3       2         0             Abbott, Mr. Rossmore Edward     NaN   \n",
       "...    ...     ...       ...                                     ...     ...   \n",
       "1297  1296       2         0  Yrois, Miss. Henriette (\"Mrs Harbeck\")  female   \n",
       "1298  1297       3         0                    Zabour, Miss. Hileni  female   \n",
       "1299  1298       3         0               Zakarian, Mr. Mapriededer    male   \n",
       "1300  1299       3         0                     Zakarian, Mr. Ortin    male   \n",
       "1301  1300       3         0                      Zimmerman, Mr. Leo    male   \n",
       "\n",
       "         6       7        8         9         10  \n",
       "0      age  family     fare  embarked       date  \n",
       "1       42       0     7.55       NaN  01-Jan-90  \n",
       "2       42       0     7.55       NaN  01-Jan-90  \n",
       "3        ?       2    20.25         S  02-Jan-90  \n",
       "4      NaN       2       **         S  03-Jan-90  \n",
       "...    ...     ...      ...       ...        ...  \n",
       "1297    24       0       13         S  19-Jul-93  \n",
       "1298  14.5       1  14.4542         C  20-Jul-93  \n",
       "1299  26.5       0    7.225         C  21-Jul-93  \n",
       "1300    27       0    7.225         C  22-Jul-93  \n",
       "1301    29       0    7.875         S  23-Jul-93  \n",
       "\n",
       "[1302 rows x 10 columns]>"
      ]
     },
     "execution_count": 6,
     "metadata": {},
     "output_type": "execute_result"
    }
   ],
   "source": [
    "df.info"
   ]
  },
  {
   "cell_type": "code",
   "execution_count": 7,
   "id": "1474275d",
   "metadata": {
    "execution": {
     "iopub.execute_input": "2024-05-04T16:28:03.597020Z",
     "iopub.status.busy": "2024-05-04T16:28:03.596476Z",
     "iopub.status.idle": "2024-05-04T16:28:03.609341Z",
     "shell.execute_reply": "2024-05-04T16:28:03.607974Z"
    },
    "papermill": {
     "duration": 0.030984,
     "end_time": "2024-05-04T16:28:03.613054",
     "exception": false,
     "start_time": "2024-05-04T16:28:03.582070",
     "status": "completed"
    },
    "tags": []
   },
   "outputs": [
    {
     "data": {
      "text/plain": [
       "1       0\n",
       "2       0\n",
       "3       0\n",
       "4       1\n",
       "5       1\n",
       "6     257\n",
       "7       2\n",
       "8       2\n",
       "9       6\n",
       "10      0\n",
       "dtype: int64"
      ]
     },
     "execution_count": 7,
     "metadata": {},
     "output_type": "execute_result"
    }
   ],
   "source": [
    "df.isna().sum()"
   ]
  },
  {
   "cell_type": "markdown",
   "id": "c28150dd",
   "metadata": {
    "papermill": {
     "duration": 0.012087,
     "end_time": "2024-05-04T16:28:03.637608",
     "exception": false,
     "start_time": "2024-05-04T16:28:03.625521",
     "status": "completed"
    },
    "tags": []
   },
   "source": [
    "****custom header,training'**''&****' a***s missing values"
   ]
  },
  {
   "cell_type": "code",
   "execution_count": 8,
   "id": "6d9d0c51",
   "metadata": {
    "execution": {
     "iopub.execute_input": "2024-05-04T16:28:03.664394Z",
     "iopub.status.busy": "2024-05-04T16:28:03.663475Z",
     "iopub.status.idle": "2024-05-04T16:28:03.785379Z",
     "shell.execute_reply": "2024-05-04T16:28:03.784092Z"
    },
    "papermill": {
     "duration": 0.138471,
     "end_time": "2024-05-04T16:28:03.788485",
     "exception": false,
     "start_time": "2024-05-04T16:28:03.650014",
     "status": "completed"
    },
    "tags": []
   },
   "outputs": [],
   "source": [
    "df2 = pd.read_csv('https://github.com/YBIFoundation/Dataset/raw/main/TheTitanic.csv',header=1,na_values=('**','?'))\n"
   ]
  },
  {
   "cell_type": "code",
   "execution_count": 9,
   "id": "f02c0a05",
   "metadata": {
    "execution": {
     "iopub.execute_input": "2024-05-04T16:28:03.814421Z",
     "iopub.status.busy": "2024-05-04T16:28:03.813970Z",
     "iopub.status.idle": "2024-05-04T16:28:03.837414Z",
     "shell.execute_reply": "2024-05-04T16:28:03.836115Z"
    },
    "papermill": {
     "duration": 0.039528,
     "end_time": "2024-05-04T16:28:03.840625",
     "exception": false,
     "start_time": "2024-05-04T16:28:03.801097",
     "status": "completed"
    },
    "tags": []
   },
   "outputs": [
    {
     "data": {
      "text/html": [
       "<div>\n",
       "<style scoped>\n",
       "    .dataframe tbody tr th:only-of-type {\n",
       "        vertical-align: middle;\n",
       "    }\n",
       "\n",
       "    .dataframe tbody tr th {\n",
       "        vertical-align: top;\n",
       "    }\n",
       "\n",
       "    .dataframe thead th {\n",
       "        text-align: right;\n",
       "    }\n",
       "</style>\n",
       "<table border=\"1\" class=\"dataframe\">\n",
       "  <thead>\n",
       "    <tr style=\"text-align: right;\">\n",
       "      <th></th>\n",
       "      <th>sn</th>\n",
       "      <th>pclass</th>\n",
       "      <th>survived</th>\n",
       "      <th>Unnamed: 3</th>\n",
       "      <th>gender</th>\n",
       "      <th>age</th>\n",
       "      <th>family</th>\n",
       "      <th>fare</th>\n",
       "      <th>embarked</th>\n",
       "      <th>date</th>\n",
       "    </tr>\n",
       "  </thead>\n",
       "  <tbody>\n",
       "    <tr>\n",
       "      <th>0</th>\n",
       "      <td>1</td>\n",
       "      <td>3</td>\n",
       "      <td>0</td>\n",
       "      <td>Mr. Anthony</td>\n",
       "      <td>male</td>\n",
       "      <td>42.0</td>\n",
       "      <td>0.0</td>\n",
       "      <td>7.55</td>\n",
       "      <td>NaN</td>\n",
       "      <td>01-Jan-90</td>\n",
       "    </tr>\n",
       "    <tr>\n",
       "      <th>1</th>\n",
       "      <td>1</td>\n",
       "      <td>3</td>\n",
       "      <td>0</td>\n",
       "      <td>Mr. Anthony</td>\n",
       "      <td>male</td>\n",
       "      <td>42.0</td>\n",
       "      <td>0.0</td>\n",
       "      <td>7.55</td>\n",
       "      <td>NaN</td>\n",
       "      <td>01-Jan-90</td>\n",
       "    </tr>\n",
       "    <tr>\n",
       "      <th>2</th>\n",
       "      <td>2</td>\n",
       "      <td>3</td>\n",
       "      <td>0</td>\n",
       "      <td>Master. Eugene Joseph</td>\n",
       "      <td>male</td>\n",
       "      <td>NaN</td>\n",
       "      <td>2.0</td>\n",
       "      <td>20.25</td>\n",
       "      <td>S</td>\n",
       "      <td>02-Jan-90</td>\n",
       "    </tr>\n",
       "    <tr>\n",
       "      <th>3</th>\n",
       "      <td>3</td>\n",
       "      <td>2</td>\n",
       "      <td>0</td>\n",
       "      <td>Abbott, Mr. Rossmore Edward</td>\n",
       "      <td>NaN</td>\n",
       "      <td>NaN</td>\n",
       "      <td>2.0</td>\n",
       "      <td>NaN</td>\n",
       "      <td>S</td>\n",
       "      <td>03-Jan-90</td>\n",
       "    </tr>\n",
       "    <tr>\n",
       "      <th>4</th>\n",
       "      <td>4</td>\n",
       "      <td>3</td>\n",
       "      <td>1</td>\n",
       "      <td>Abbott, Mr. Rossmore Edward</td>\n",
       "      <td>female</td>\n",
       "      <td>35.0</td>\n",
       "      <td>2.0</td>\n",
       "      <td>20.25</td>\n",
       "      <td>S</td>\n",
       "      <td>04-Jan-90</td>\n",
       "    </tr>\n",
       "  </tbody>\n",
       "</table>\n",
       "</div>"
      ],
      "text/plain": [
       "   sn  pclass  survived                   Unnamed: 3  gender   age  family  \\\n",
       "0   1       3         0                  Mr. Anthony    male  42.0     0.0   \n",
       "1   1       3         0                  Mr. Anthony    male  42.0     0.0   \n",
       "2   2       3         0        Master. Eugene Joseph    male   NaN     2.0   \n",
       "3   3       2         0  Abbott, Mr. Rossmore Edward     NaN   NaN     2.0   \n",
       "4   4       3         1  Abbott, Mr. Rossmore Edward  female  35.0     2.0   \n",
       "\n",
       "    fare embarked       date  \n",
       "0   7.55      NaN  01-Jan-90  \n",
       "1   7.55      NaN  01-Jan-90  \n",
       "2  20.25        S  02-Jan-90  \n",
       "3    NaN        S  03-Jan-90  \n",
       "4  20.25        S  04-Jan-90  "
      ]
     },
     "execution_count": 9,
     "metadata": {},
     "output_type": "execute_result"
    }
   ],
   "source": [
    "df2.head()"
   ]
  },
  {
   "cell_type": "markdown",
   "id": "180928e7",
   "metadata": {
    "papermill": {
     "duration": 0.012248,
     "end_time": "2024-05-04T16:28:03.864832",
     "exception": false,
     "start_time": "2024-05-04T16:28:03.852584",
     "status": "completed"
    },
    "tags": []
   },
   "source": [
    "****renaming**** ****columns****"
   ]
  },
  {
   "cell_type": "code",
   "execution_count": 10,
   "id": "79da0d74",
   "metadata": {
    "execution": {
     "iopub.execute_input": "2024-05-04T16:28:03.890644Z",
     "iopub.status.busy": "2024-05-04T16:28:03.890176Z",
     "iopub.status.idle": "2024-05-04T16:28:03.908565Z",
     "shell.execute_reply": "2024-05-04T16:28:03.907614Z"
    },
    "papermill": {
     "duration": 0.033978,
     "end_time": "2024-05-04T16:28:03.911014",
     "exception": false,
     "start_time": "2024-05-04T16:28:03.877036",
     "status": "completed"
    },
    "tags": []
   },
   "outputs": [
    {
     "data": {
      "text/html": [
       "<div>\n",
       "<style scoped>\n",
       "    .dataframe tbody tr th:only-of-type {\n",
       "        vertical-align: middle;\n",
       "    }\n",
       "\n",
       "    .dataframe tbody tr th {\n",
       "        vertical-align: top;\n",
       "    }\n",
       "\n",
       "    .dataframe thead th {\n",
       "        text-align: right;\n",
       "    }\n",
       "</style>\n",
       "<table border=\"1\" class=\"dataframe\">\n",
       "  <thead>\n",
       "    <tr style=\"text-align: right;\">\n",
       "      <th></th>\n",
       "      <th>sn</th>\n",
       "      <th>pclass</th>\n",
       "      <th>survived</th>\n",
       "      <th>name</th>\n",
       "      <th>gender</th>\n",
       "      <th>age</th>\n",
       "      <th>family</th>\n",
       "      <th>fare</th>\n",
       "      <th>embarked</th>\n",
       "      <th>date</th>\n",
       "    </tr>\n",
       "  </thead>\n",
       "  <tbody>\n",
       "    <tr>\n",
       "      <th>0</th>\n",
       "      <td>1</td>\n",
       "      <td>3</td>\n",
       "      <td>0</td>\n",
       "      <td>Mr. Anthony</td>\n",
       "      <td>male</td>\n",
       "      <td>42.0</td>\n",
       "      <td>0.0</td>\n",
       "      <td>7.55</td>\n",
       "      <td>NaN</td>\n",
       "      <td>01-Jan-90</td>\n",
       "    </tr>\n",
       "    <tr>\n",
       "      <th>1</th>\n",
       "      <td>1</td>\n",
       "      <td>3</td>\n",
       "      <td>0</td>\n",
       "      <td>Mr. Anthony</td>\n",
       "      <td>male</td>\n",
       "      <td>42.0</td>\n",
       "      <td>0.0</td>\n",
       "      <td>7.55</td>\n",
       "      <td>NaN</td>\n",
       "      <td>01-Jan-90</td>\n",
       "    </tr>\n",
       "    <tr>\n",
       "      <th>2</th>\n",
       "      <td>2</td>\n",
       "      <td>3</td>\n",
       "      <td>0</td>\n",
       "      <td>Master. Eugene Joseph</td>\n",
       "      <td>male</td>\n",
       "      <td>NaN</td>\n",
       "      <td>2.0</td>\n",
       "      <td>20.25</td>\n",
       "      <td>S</td>\n",
       "      <td>02-Jan-90</td>\n",
       "    </tr>\n",
       "    <tr>\n",
       "      <th>3</th>\n",
       "      <td>3</td>\n",
       "      <td>2</td>\n",
       "      <td>0</td>\n",
       "      <td>Abbott, Mr. Rossmore Edward</td>\n",
       "      <td>NaN</td>\n",
       "      <td>NaN</td>\n",
       "      <td>2.0</td>\n",
       "      <td>NaN</td>\n",
       "      <td>S</td>\n",
       "      <td>03-Jan-90</td>\n",
       "    </tr>\n",
       "    <tr>\n",
       "      <th>4</th>\n",
       "      <td>4</td>\n",
       "      <td>3</td>\n",
       "      <td>1</td>\n",
       "      <td>Abbott, Mr. Rossmore Edward</td>\n",
       "      <td>female</td>\n",
       "      <td>35.0</td>\n",
       "      <td>2.0</td>\n",
       "      <td>20.25</td>\n",
       "      <td>S</td>\n",
       "      <td>04-Jan-90</td>\n",
       "    </tr>\n",
       "  </tbody>\n",
       "</table>\n",
       "</div>"
      ],
      "text/plain": [
       "   sn  pclass  survived                         name  gender   age  family  \\\n",
       "0   1       3         0                  Mr. Anthony    male  42.0     0.0   \n",
       "1   1       3         0                  Mr. Anthony    male  42.0     0.0   \n",
       "2   2       3         0        Master. Eugene Joseph    male   NaN     2.0   \n",
       "3   3       2         0  Abbott, Mr. Rossmore Edward     NaN   NaN     2.0   \n",
       "4   4       3         1  Abbott, Mr. Rossmore Edward  female  35.0     2.0   \n",
       "\n",
       "    fare embarked       date  \n",
       "0   7.55      NaN  01-Jan-90  \n",
       "1   7.55      NaN  01-Jan-90  \n",
       "2  20.25        S  02-Jan-90  \n",
       "3    NaN        S  03-Jan-90  \n",
       "4  20.25        S  04-Jan-90  "
      ]
     },
     "execution_count": 10,
     "metadata": {},
     "output_type": "execute_result"
    }
   ],
   "source": [
    "df2.rename(columns={'Unnamed: 3':'name'},inplace = True)\n",
    "df2.head()\n"
   ]
  },
  {
   "cell_type": "markdown",
   "id": "368206ea",
   "metadata": {
    "papermill": {
     "duration": 0.012584,
     "end_time": "2024-05-04T16:28:03.935730",
     "exception": false,
     "start_time": "2024-05-04T16:28:03.923146",
     "status": "completed"
    },
    "tags": []
   },
   "source": [
    "****removing duplicates****"
   ]
  },
  {
   "cell_type": "code",
   "execution_count": 11,
   "id": "4f77d44e",
   "metadata": {
    "execution": {
     "iopub.execute_input": "2024-05-04T16:28:03.962772Z",
     "iopub.status.busy": "2024-05-04T16:28:03.961980Z",
     "iopub.status.idle": "2024-05-04T16:28:03.983009Z",
     "shell.execute_reply": "2024-05-04T16:28:03.981149Z"
    },
    "papermill": {
     "duration": 0.037864,
     "end_time": "2024-05-04T16:28:03.986230",
     "exception": false,
     "start_time": "2024-05-04T16:28:03.948366",
     "status": "completed"
    },
    "tags": []
   },
   "outputs": [
    {
     "name": "stdout",
     "output_type": "stream",
     "text": [
      "This dataset contain 0 duplicate values.\n"
     ]
    }
   ],
   "source": [
    "df2.drop_duplicates(inplace=True)\n",
    "print(\"This dataset contain\",df2.duplicated().sum(),\"duplicate values.\")\n"
   ]
  },
  {
   "cell_type": "markdown",
   "id": "8f9ab53e",
   "metadata": {
    "papermill": {
     "duration": 0.013341,
     "end_time": "2024-05-04T16:28:04.012527",
     "exception": false,
     "start_time": "2024-05-04T16:28:03.999186",
     "status": "completed"
    },
    "tags": []
   },
   "source": [
    "**removing rows**"
   ]
  },
  {
   "cell_type": "code",
   "execution_count": 12,
   "id": "04907466",
   "metadata": {
    "execution": {
     "iopub.execute_input": "2024-05-04T16:28:04.039010Z",
     "iopub.status.busy": "2024-05-04T16:28:04.038480Z",
     "iopub.status.idle": "2024-05-04T16:28:04.050963Z",
     "shell.execute_reply": "2024-05-04T16:28:04.049631Z"
    },
    "papermill": {
     "duration": 0.029239,
     "end_time": "2024-05-04T16:28:04.053980",
     "exception": false,
     "start_time": "2024-05-04T16:28:04.024741",
     "status": "completed"
    },
    "tags": []
   },
   "outputs": [],
   "source": [
    "df2.dropna(thresh=df.shape[1]-2, inplace=True) # dropping rows which 2 or more null values\n"
   ]
  },
  {
   "cell_type": "code",
   "execution_count": 13,
   "id": "0fd229da",
   "metadata": {
    "execution": {
     "iopub.execute_input": "2024-05-04T16:28:04.080488Z",
     "iopub.status.busy": "2024-05-04T16:28:04.080033Z",
     "iopub.status.idle": "2024-05-04T16:28:04.100399Z",
     "shell.execute_reply": "2024-05-04T16:28:04.098906Z"
    },
    "papermill": {
     "duration": 0.036969,
     "end_time": "2024-05-04T16:28:04.103356",
     "exception": false,
     "start_time": "2024-05-04T16:28:04.066387",
     "status": "completed"
    },
    "tags": []
   },
   "outputs": [
    {
     "data": {
      "text/html": [
       "<div>\n",
       "<style scoped>\n",
       "    .dataframe tbody tr th:only-of-type {\n",
       "        vertical-align: middle;\n",
       "    }\n",
       "\n",
       "    .dataframe tbody tr th {\n",
       "        vertical-align: top;\n",
       "    }\n",
       "\n",
       "    .dataframe thead th {\n",
       "        text-align: right;\n",
       "    }\n",
       "</style>\n",
       "<table border=\"1\" class=\"dataframe\">\n",
       "  <thead>\n",
       "    <tr style=\"text-align: right;\">\n",
       "      <th></th>\n",
       "      <th>sn</th>\n",
       "      <th>pclass</th>\n",
       "      <th>survived</th>\n",
       "      <th>name</th>\n",
       "      <th>gender</th>\n",
       "      <th>age</th>\n",
       "      <th>family</th>\n",
       "      <th>fare</th>\n",
       "      <th>embarked</th>\n",
       "      <th>date</th>\n",
       "    </tr>\n",
       "  </thead>\n",
       "  <tbody>\n",
       "    <tr>\n",
       "      <th>0</th>\n",
       "      <td>1</td>\n",
       "      <td>3</td>\n",
       "      <td>0</td>\n",
       "      <td>Mr. Anthony</td>\n",
       "      <td>male</td>\n",
       "      <td>42.0</td>\n",
       "      <td>0.0</td>\n",
       "      <td>7.55</td>\n",
       "      <td>NaN</td>\n",
       "      <td>01-Jan-90</td>\n",
       "    </tr>\n",
       "    <tr>\n",
       "      <th>2</th>\n",
       "      <td>2</td>\n",
       "      <td>3</td>\n",
       "      <td>0</td>\n",
       "      <td>Master. Eugene Joseph</td>\n",
       "      <td>male</td>\n",
       "      <td>NaN</td>\n",
       "      <td>2.0</td>\n",
       "      <td>20.25</td>\n",
       "      <td>S</td>\n",
       "      <td>02-Jan-90</td>\n",
       "    </tr>\n",
       "    <tr>\n",
       "      <th>4</th>\n",
       "      <td>4</td>\n",
       "      <td>3</td>\n",
       "      <td>1</td>\n",
       "      <td>Abbott, Mr. Rossmore Edward</td>\n",
       "      <td>female</td>\n",
       "      <td>35.0</td>\n",
       "      <td>2.0</td>\n",
       "      <td>20.25</td>\n",
       "      <td>S</td>\n",
       "      <td>04-Jan-90</td>\n",
       "    </tr>\n",
       "    <tr>\n",
       "      <th>5</th>\n",
       "      <td>5</td>\n",
       "      <td>3</td>\n",
       "      <td>1</td>\n",
       "      <td>Abelseth, Miss. Karen Marie</td>\n",
       "      <td>female</td>\n",
       "      <td>16.0</td>\n",
       "      <td>0.0</td>\n",
       "      <td>7.65</td>\n",
       "      <td>S</td>\n",
       "      <td>05-Jan-90</td>\n",
       "    </tr>\n",
       "    <tr>\n",
       "      <th>6</th>\n",
       "      <td>6</td>\n",
       "      <td>3</td>\n",
       "      <td>1</td>\n",
       "      <td>Abelseth, Mr. Olaus Jorgensen</td>\n",
       "      <td>male</td>\n",
       "      <td>25.0</td>\n",
       "      <td>0.0</td>\n",
       "      <td>7.65</td>\n",
       "      <td>S</td>\n",
       "      <td>06-Jan-90</td>\n",
       "    </tr>\n",
       "  </tbody>\n",
       "</table>\n",
       "</div>"
      ],
      "text/plain": [
       "   sn  pclass  survived                           name  gender   age  family  \\\n",
       "0   1       3         0                    Mr. Anthony    male  42.0     0.0   \n",
       "2   2       3         0          Master. Eugene Joseph    male   NaN     2.0   \n",
       "4   4       3         1    Abbott, Mr. Rossmore Edward  female  35.0     2.0   \n",
       "5   5       3         1    Abelseth, Miss. Karen Marie  female  16.0     0.0   \n",
       "6   6       3         1  Abelseth, Mr. Olaus Jorgensen    male  25.0     0.0   \n",
       "\n",
       "    fare embarked       date  \n",
       "0   7.55      NaN  01-Jan-90  \n",
       "2  20.25        S  02-Jan-90  \n",
       "4  20.25        S  04-Jan-90  \n",
       "5   7.65        S  05-Jan-90  \n",
       "6   7.65        S  06-Jan-90  "
      ]
     },
     "execution_count": 13,
     "metadata": {},
     "output_type": "execute_result"
    }
   ],
   "source": [
    "df2.head()"
   ]
  },
  {
   "cell_type": "markdown",
   "id": "dc762363",
   "metadata": {
    "papermill": {
     "duration": 0.012431,
     "end_time": "2024-05-04T16:28:04.129342",
     "exception": false,
     "start_time": "2024-05-04T16:28:04.116911",
     "status": "completed"
    },
    "tags": []
   },
   "source": [
    "**filling missing values in age column(by mean)**"
   ]
  },
  {
   "cell_type": "code",
   "execution_count": 14,
   "id": "e84ef152",
   "metadata": {
    "execution": {
     "iopub.execute_input": "2024-05-04T16:28:04.156512Z",
     "iopub.status.busy": "2024-05-04T16:28:04.156081Z",
     "iopub.status.idle": "2024-05-04T16:28:04.163298Z",
     "shell.execute_reply": "2024-05-04T16:28:04.162294Z"
    },
    "papermill": {
     "duration": 0.023721,
     "end_time": "2024-05-04T16:28:04.166059",
     "exception": false,
     "start_time": "2024-05-04T16:28:04.142338",
     "status": "completed"
    },
    "tags": []
   },
   "outputs": [],
   "source": [
    "mean_age = df2['age'].mean().round()\n",
    "df2['age'] = df2['age'].fillna(mean_age) #filling missing data with mean\n"
   ]
  },
  {
   "cell_type": "code",
   "execution_count": 15,
   "id": "fe97945f",
   "metadata": {
    "execution": {
     "iopub.execute_input": "2024-05-04T16:28:04.193125Z",
     "iopub.status.busy": "2024-05-04T16:28:04.192715Z",
     "iopub.status.idle": "2024-05-04T16:28:04.201227Z",
     "shell.execute_reply": "2024-05-04T16:28:04.199661Z"
    },
    "papermill": {
     "duration": 0.0251,
     "end_time": "2024-05-04T16:28:04.203810",
     "exception": false,
     "start_time": "2024-05-04T16:28:04.178710",
     "status": "completed"
    },
    "tags": []
   },
   "outputs": [
    {
     "data": {
      "text/plain": [
       "0"
      ]
     },
     "execution_count": 15,
     "metadata": {},
     "output_type": "execute_result"
    }
   ],
   "source": [
    " df2['age'].isna().sum() # null count for age column\n"
   ]
  },
  {
   "cell_type": "markdown",
   "id": "6d1f2b64",
   "metadata": {
    "papermill": {
     "duration": 0.012456,
     "end_time": "2024-05-04T16:28:04.228937",
     "exception": false,
     "start_time": "2024-05-04T16:28:04.216481",
     "status": "completed"
    },
    "tags": []
   },
   "source": [
    "**removing remaining null values**"
   ]
  },
  {
   "cell_type": "code",
   "execution_count": 16,
   "id": "c4303b9b",
   "metadata": {
    "execution": {
     "iopub.execute_input": "2024-05-04T16:28:04.256790Z",
     "iopub.status.busy": "2024-05-04T16:28:04.255572Z",
     "iopub.status.idle": "2024-05-04T16:28:04.263713Z",
     "shell.execute_reply": "2024-05-04T16:28:04.262610Z"
    },
    "papermill": {
     "duration": 0.024587,
     "end_time": "2024-05-04T16:28:04.266266",
     "exception": false,
     "start_time": "2024-05-04T16:28:04.241679",
     "status": "completed"
    },
    "tags": []
   },
   "outputs": [],
   "source": [
    "df2.dropna(inplace = True)\n"
   ]
  },
  {
   "cell_type": "code",
   "execution_count": 17,
   "id": "fcf5faba",
   "metadata": {
    "execution": {
     "iopub.execute_input": "2024-05-04T16:28:04.293320Z",
     "iopub.status.busy": "2024-05-04T16:28:04.292916Z",
     "iopub.status.idle": "2024-05-04T16:28:04.303253Z",
     "shell.execute_reply": "2024-05-04T16:28:04.302172Z"
    },
    "papermill": {
     "duration": 0.026768,
     "end_time": "2024-05-04T16:28:04.305668",
     "exception": false,
     "start_time": "2024-05-04T16:28:04.278900",
     "status": "completed"
    },
    "tags": []
   },
   "outputs": [
    {
     "data": {
      "text/plain": [
       "sn          0\n",
       "pclass      0\n",
       "survived    0\n",
       "name        0\n",
       "gender      0\n",
       "age         0\n",
       "family      0\n",
       "fare        0\n",
       "embarked    0\n",
       "date        0\n",
       "dtype: int64"
      ]
     },
     "execution_count": 17,
     "metadata": {},
     "output_type": "execute_result"
    }
   ],
   "source": [
    "df2.isna().sum()\n"
   ]
  },
  {
   "cell_type": "markdown",
   "id": "69130ba1",
   "metadata": {
    "papermill": {
     "duration": 0.012417,
     "end_time": "2024-05-04T16:28:04.331677",
     "exception": false,
     "start_time": "2024-05-04T16:28:04.319260",
     "status": "completed"
    },
    "tags": []
   },
   "source": [
    "**label encoding**"
   ]
  },
  {
   "cell_type": "code",
   "execution_count": 18,
   "id": "f087059a",
   "metadata": {
    "execution": {
     "iopub.execute_input": "2024-05-04T16:28:04.359340Z",
     "iopub.status.busy": "2024-05-04T16:28:04.358429Z",
     "iopub.status.idle": "2024-05-04T16:28:04.367997Z",
     "shell.execute_reply": "2024-05-04T16:28:04.366752Z"
    },
    "papermill": {
     "duration": 0.026555,
     "end_time": "2024-05-04T16:28:04.370908",
     "exception": false,
     "start_time": "2024-05-04T16:28:04.344353",
     "status": "completed"
    },
    "tags": []
   },
   "outputs": [],
   "source": [
    "df2['male'] = (df2['gender'] == 'male').astype(int)\n",
    "df2['female'] = (df2['gender'] == 'female').astype(int)\n"
   ]
  },
  {
   "cell_type": "code",
   "execution_count": 19,
   "id": "da9bcd86",
   "metadata": {
    "execution": {
     "iopub.execute_input": "2024-05-04T16:28:04.399725Z",
     "iopub.status.busy": "2024-05-04T16:28:04.398906Z",
     "iopub.status.idle": "2024-05-04T16:28:04.410763Z",
     "shell.execute_reply": "2024-05-04T16:28:04.409549Z"
    },
    "papermill": {
     "duration": 0.029753,
     "end_time": "2024-05-04T16:28:04.413546",
     "exception": false,
     "start_time": "2024-05-04T16:28:04.383793",
     "status": "completed"
    },
    "tags": []
   },
   "outputs": [
    {
     "data": {
      "text/plain": [
       "embarked\n",
       "S    902\n",
       "C    267\n",
       "Q    123\n",
       "Name: count, dtype: int64"
      ]
     },
     "execution_count": 19,
     "metadata": {},
     "output_type": "execute_result"
    }
   ],
   "source": [
    "df2['embarked'].value_counts()\n"
   ]
  },
  {
   "cell_type": "code",
   "execution_count": 20,
   "id": "b0909069",
   "metadata": {
    "execution": {
     "iopub.execute_input": "2024-05-04T16:28:04.441310Z",
     "iopub.status.busy": "2024-05-04T16:28:04.440903Z",
     "iopub.status.idle": "2024-05-04T16:28:04.451043Z",
     "shell.execute_reply": "2024-05-04T16:28:04.449512Z"
    },
    "papermill": {
     "duration": 0.027499,
     "end_time": "2024-05-04T16:28:04.453912",
     "exception": false,
     "start_time": "2024-05-04T16:28:04.426413",
     "status": "completed"
    },
    "tags": []
   },
   "outputs": [
    {
     "name": "stderr",
     "output_type": "stream",
     "text": [
      "/tmp/ipykernel_18/361313236.py:1: FutureWarning: A value is trying to be set on a copy of a DataFrame or Series through chained assignment using an inplace method.\n",
      "The behavior will change in pandas 3.0. This inplace method will never work because the intermediate object on which we are setting values always behaves as a copy.\n",
      "\n",
      "For example, when doing 'df[col].method(value, inplace=True)', try using 'df.method({col: value}, inplace=True)' or df[col] = df[col].method(value) instead, to perform the operation inplace on the original object.\n",
      "\n",
      "\n",
      "  df2['embarked'].replace({'S':2,'C':1,'Q':0},inplace=True)\n",
      "/tmp/ipykernel_18/361313236.py:1: FutureWarning: Downcasting behavior in `replace` is deprecated and will be removed in a future version. To retain the old behavior, explicitly call `result.infer_objects(copy=False)`. To opt-in to the future behavior, set `pd.set_option('future.no_silent_downcasting', True)`\n",
      "  df2['embarked'].replace({'S':2,'C':1,'Q':0},inplace=True)\n"
     ]
    }
   ],
   "source": [
    "df2['embarked'].replace({'S':2,'C':1,'Q':0},inplace=True)"
   ]
  },
  {
   "cell_type": "code",
   "execution_count": 21,
   "id": "033b21cb",
   "metadata": {
    "execution": {
     "iopub.execute_input": "2024-05-04T16:28:04.481969Z",
     "iopub.status.busy": "2024-05-04T16:28:04.481505Z",
     "iopub.status.idle": "2024-05-04T16:28:04.489923Z",
     "shell.execute_reply": "2024-05-04T16:28:04.488443Z"
    },
    "papermill": {
     "duration": 0.025791,
     "end_time": "2024-05-04T16:28:04.492740",
     "exception": false,
     "start_time": "2024-05-04T16:28:04.466949",
     "status": "completed"
    },
    "tags": []
   },
   "outputs": [],
   "source": [
    "df2.drop(columns=['gender','name','date'],inplace = True)"
   ]
  },
  {
   "cell_type": "code",
   "execution_count": 22,
   "id": "bfad8bd5",
   "metadata": {
    "execution": {
     "iopub.execute_input": "2024-05-04T16:28:04.521204Z",
     "iopub.status.busy": "2024-05-04T16:28:04.520778Z",
     "iopub.status.idle": "2024-05-04T16:28:04.539279Z",
     "shell.execute_reply": "2024-05-04T16:28:04.538296Z"
    },
    "papermill": {
     "duration": 0.036052,
     "end_time": "2024-05-04T16:28:04.541949",
     "exception": false,
     "start_time": "2024-05-04T16:28:04.505897",
     "status": "completed"
    },
    "tags": []
   },
   "outputs": [
    {
     "data": {
      "text/html": [
       "<div>\n",
       "<style scoped>\n",
       "    .dataframe tbody tr th:only-of-type {\n",
       "        vertical-align: middle;\n",
       "    }\n",
       "\n",
       "    .dataframe tbody tr th {\n",
       "        vertical-align: top;\n",
       "    }\n",
       "\n",
       "    .dataframe thead th {\n",
       "        text-align: right;\n",
       "    }\n",
       "</style>\n",
       "<table border=\"1\" class=\"dataframe\">\n",
       "  <thead>\n",
       "    <tr style=\"text-align: right;\">\n",
       "      <th></th>\n",
       "      <th>sn</th>\n",
       "      <th>pclass</th>\n",
       "      <th>survived</th>\n",
       "      <th>age</th>\n",
       "      <th>family</th>\n",
       "      <th>fare</th>\n",
       "      <th>embarked</th>\n",
       "      <th>male</th>\n",
       "      <th>female</th>\n",
       "    </tr>\n",
       "  </thead>\n",
       "  <tbody>\n",
       "    <tr>\n",
       "      <th>2</th>\n",
       "      <td>2</td>\n",
       "      <td>3</td>\n",
       "      <td>0</td>\n",
       "      <td>30.0</td>\n",
       "      <td>2.0</td>\n",
       "      <td>20.25</td>\n",
       "      <td>2</td>\n",
       "      <td>1</td>\n",
       "      <td>0</td>\n",
       "    </tr>\n",
       "    <tr>\n",
       "      <th>4</th>\n",
       "      <td>4</td>\n",
       "      <td>3</td>\n",
       "      <td>1</td>\n",
       "      <td>35.0</td>\n",
       "      <td>2.0</td>\n",
       "      <td>20.25</td>\n",
       "      <td>2</td>\n",
       "      <td>0</td>\n",
       "      <td>1</td>\n",
       "    </tr>\n",
       "    <tr>\n",
       "      <th>5</th>\n",
       "      <td>5</td>\n",
       "      <td>3</td>\n",
       "      <td>1</td>\n",
       "      <td>16.0</td>\n",
       "      <td>0.0</td>\n",
       "      <td>7.65</td>\n",
       "      <td>2</td>\n",
       "      <td>0</td>\n",
       "      <td>1</td>\n",
       "    </tr>\n",
       "    <tr>\n",
       "      <th>6</th>\n",
       "      <td>6</td>\n",
       "      <td>3</td>\n",
       "      <td>1</td>\n",
       "      <td>25.0</td>\n",
       "      <td>0.0</td>\n",
       "      <td>7.65</td>\n",
       "      <td>2</td>\n",
       "      <td>1</td>\n",
       "      <td>0</td>\n",
       "    </tr>\n",
       "    <tr>\n",
       "      <th>7</th>\n",
       "      <td>7</td>\n",
       "      <td>2</td>\n",
       "      <td>0</td>\n",
       "      <td>30.0</td>\n",
       "      <td>1.0</td>\n",
       "      <td>24.00</td>\n",
       "      <td>1</td>\n",
       "      <td>1</td>\n",
       "      <td>0</td>\n",
       "    </tr>\n",
       "  </tbody>\n",
       "</table>\n",
       "</div>"
      ],
      "text/plain": [
       "   sn  pclass  survived   age  family   fare  embarked  male  female\n",
       "2   2       3         0  30.0     2.0  20.25         2     1       0\n",
       "4   4       3         1  35.0     2.0  20.25         2     0       1\n",
       "5   5       3         1  16.0     0.0   7.65         2     0       1\n",
       "6   6       3         1  25.0     0.0   7.65         2     1       0\n",
       "7   7       2         0  30.0     1.0  24.00         1     1       0"
      ]
     },
     "execution_count": 22,
     "metadata": {},
     "output_type": "execute_result"
    }
   ],
   "source": [
    "df2.head()"
   ]
  },
  {
   "cell_type": "markdown",
   "id": "2cd6f430",
   "metadata": {
    "papermill": {
     "duration": 0.013255,
     "end_time": "2024-05-04T16:28:04.568620",
     "exception": false,
     "start_time": "2024-05-04T16:28:04.555365",
     "status": "completed"
    },
    "tags": []
   },
   "source": [
    "**spliting data and use standard scaling**"
   ]
  },
  {
   "cell_type": "code",
   "execution_count": 23,
   "id": "7ead98eb",
   "metadata": {
    "execution": {
     "iopub.execute_input": "2024-05-04T16:28:04.597536Z",
     "iopub.status.busy": "2024-05-04T16:28:04.596809Z",
     "iopub.status.idle": "2024-05-04T16:28:04.603278Z",
     "shell.execute_reply": "2024-05-04T16:28:04.602058Z"
    },
    "papermill": {
     "duration": 0.024066,
     "end_time": "2024-05-04T16:28:04.606127",
     "exception": false,
     "start_time": "2024-05-04T16:28:04.582061",
     "status": "completed"
    },
    "tags": []
   },
   "outputs": [],
   "source": [
    "X = df2.drop(columns=['survived']) #features\n",
    "y = df2['survived'] #target"
   ]
  },
  {
   "cell_type": "code",
   "execution_count": 24,
   "id": "6c44e018",
   "metadata": {
    "execution": {
     "iopub.execute_input": "2024-05-04T16:28:04.634330Z",
     "iopub.status.busy": "2024-05-04T16:28:04.633886Z",
     "iopub.status.idle": "2024-05-04T16:28:06.291866Z",
     "shell.execute_reply": "2024-05-04T16:28:06.290524Z"
    },
    "papermill": {
     "duration": 1.675494,
     "end_time": "2024-05-04T16:28:06.294986",
     "exception": false,
     "start_time": "2024-05-04T16:28:04.619492",
     "status": "completed"
    },
    "tags": []
   },
   "outputs": [],
   "source": [
    "from sklearn.model_selection import train_test_split\n",
    "X_train,X_test,y_train,y_test = train_test_split(X,y,test_size=0.8,stratify=y,random_state=2)"
   ]
  },
  {
   "cell_type": "code",
   "execution_count": 25,
   "id": "aead13f9",
   "metadata": {
    "execution": {
     "iopub.execute_input": "2024-05-04T16:28:06.324792Z",
     "iopub.status.busy": "2024-05-04T16:28:06.324319Z",
     "iopub.status.idle": "2024-05-04T16:28:06.340164Z",
     "shell.execute_reply": "2024-05-04T16:28:06.338933Z"
    },
    "papermill": {
     "duration": 0.034619,
     "end_time": "2024-05-04T16:28:06.343193",
     "exception": false,
     "start_time": "2024-05-04T16:28:06.308574",
     "status": "completed"
    },
    "tags": []
   },
   "outputs": [],
   "source": [
    "from sklearn.preprocessing import StandardScaler\n",
    "sc = StandardScaler()\n",
    "X_train_sc = sc.fit_transform(X_train)\n",
    "X_test_sc = sc.fit_transform(X_test)"
   ]
  },
  {
   "cell_type": "code",
   "execution_count": 26,
   "id": "c2b63694",
   "metadata": {
    "execution": {
     "iopub.execute_input": "2024-05-04T16:28:06.373455Z",
     "iopub.status.busy": "2024-05-04T16:28:06.372180Z",
     "iopub.status.idle": "2024-05-04T16:28:06.388650Z",
     "shell.execute_reply": "2024-05-04T16:28:06.387383Z"
    },
    "papermill": {
     "duration": 0.033857,
     "end_time": "2024-05-04T16:28:06.391379",
     "exception": false,
     "start_time": "2024-05-04T16:28:06.357522",
     "status": "completed"
    },
    "tags": []
   },
   "outputs": [
    {
     "data": {
      "text/html": [
       "<div>\n",
       "<style scoped>\n",
       "    .dataframe tbody tr th:only-of-type {\n",
       "        vertical-align: middle;\n",
       "    }\n",
       "\n",
       "    .dataframe tbody tr th {\n",
       "        vertical-align: top;\n",
       "    }\n",
       "\n",
       "    .dataframe thead th {\n",
       "        text-align: right;\n",
       "    }\n",
       "</style>\n",
       "<table border=\"1\" class=\"dataframe\">\n",
       "  <thead>\n",
       "    <tr style=\"text-align: right;\">\n",
       "      <th></th>\n",
       "      <th>sn</th>\n",
       "      <th>pclass</th>\n",
       "      <th>survived</th>\n",
       "      <th>age</th>\n",
       "      <th>family</th>\n",
       "      <th>fare</th>\n",
       "      <th>embarked</th>\n",
       "      <th>male</th>\n",
       "      <th>female</th>\n",
       "    </tr>\n",
       "  </thead>\n",
       "  <tbody>\n",
       "    <tr>\n",
       "      <th>2</th>\n",
       "      <td>2</td>\n",
       "      <td>3</td>\n",
       "      <td>0</td>\n",
       "      <td>30.0</td>\n",
       "      <td>2.0</td>\n",
       "      <td>20.25</td>\n",
       "      <td>2</td>\n",
       "      <td>1</td>\n",
       "      <td>0</td>\n",
       "    </tr>\n",
       "    <tr>\n",
       "      <th>4</th>\n",
       "      <td>4</td>\n",
       "      <td>3</td>\n",
       "      <td>1</td>\n",
       "      <td>35.0</td>\n",
       "      <td>2.0</td>\n",
       "      <td>20.25</td>\n",
       "      <td>2</td>\n",
       "      <td>0</td>\n",
       "      <td>1</td>\n",
       "    </tr>\n",
       "    <tr>\n",
       "      <th>5</th>\n",
       "      <td>5</td>\n",
       "      <td>3</td>\n",
       "      <td>1</td>\n",
       "      <td>16.0</td>\n",
       "      <td>0.0</td>\n",
       "      <td>7.65</td>\n",
       "      <td>2</td>\n",
       "      <td>0</td>\n",
       "      <td>1</td>\n",
       "    </tr>\n",
       "    <tr>\n",
       "      <th>6</th>\n",
       "      <td>6</td>\n",
       "      <td>3</td>\n",
       "      <td>1</td>\n",
       "      <td>25.0</td>\n",
       "      <td>0.0</td>\n",
       "      <td>7.65</td>\n",
       "      <td>2</td>\n",
       "      <td>1</td>\n",
       "      <td>0</td>\n",
       "    </tr>\n",
       "    <tr>\n",
       "      <th>7</th>\n",
       "      <td>7</td>\n",
       "      <td>2</td>\n",
       "      <td>0</td>\n",
       "      <td>30.0</td>\n",
       "      <td>1.0</td>\n",
       "      <td>24.00</td>\n",
       "      <td>1</td>\n",
       "      <td>1</td>\n",
       "      <td>0</td>\n",
       "    </tr>\n",
       "  </tbody>\n",
       "</table>\n",
       "</div>"
      ],
      "text/plain": [
       "   sn  pclass  survived   age  family   fare  embarked  male  female\n",
       "2   2       3         0  30.0     2.0  20.25         2     1       0\n",
       "4   4       3         1  35.0     2.0  20.25         2     0       1\n",
       "5   5       3         1  16.0     0.0   7.65         2     0       1\n",
       "6   6       3         1  25.0     0.0   7.65         2     1       0\n",
       "7   7       2         0  30.0     1.0  24.00         1     1       0"
      ]
     },
     "execution_count": 26,
     "metadata": {},
     "output_type": "execute_result"
    }
   ],
   "source": [
    "df2.head()"
   ]
  }
 ],
 "metadata": {
  "kaggle": {
   "accelerator": "none",
   "dataSources": [],
   "dockerImageVersionId": 30698,
   "isGpuEnabled": false,
   "isInternetEnabled": true,
   "language": "python",
   "sourceType": "notebook"
  },
  "kernelspec": {
   "display_name": "Python 3",
   "language": "python",
   "name": "python3"
  },
  "language_info": {
   "codemirror_mode": {
    "name": "ipython",
    "version": 3
   },
   "file_extension": ".py",
   "mimetype": "text/x-python",
   "name": "python",
   "nbconvert_exporter": "python",
   "pygments_lexer": "ipython3",
   "version": "3.10.13"
  },
  "papermill": {
   "default_parameters": {},
   "duration": 8.870869,
   "end_time": "2024-05-04T16:28:07.129052",
   "environment_variables": {},
   "exception": null,
   "input_path": "__notebook__.ipynb",
   "output_path": "__notebook__.ipynb",
   "parameters": {},
   "start_time": "2024-05-04T16:27:58.258183",
   "version": "2.5.0"
  }
 },
 "nbformat": 4,
 "nbformat_minor": 5
}
